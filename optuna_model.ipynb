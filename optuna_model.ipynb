{
 "cells": [
  {
   "cell_type": "code",
   "execution_count": 1,
   "metadata": {},
   "outputs": [],
   "source": [
    "import numpy as np\n",
    "import matplotlib.pyplot as plt\n",
    "\n",
    "import torch\n",
    "import torch.nn as nn\n",
    "import torch.optim as optim\n",
    "\n",
    "from sklearn.model_selection import train_test_split\n",
    "from sklearn.metrics import roc_curve, roc_auc_score, RocCurveDisplay\n",
    "\n",
    "from tqdm import tqdm\n",
    "\n",
    "import optuna"
   ]
  },
  {
   "cell_type": "code",
   "execution_count": 2,
   "metadata": {},
   "outputs": [
    {
     "data": {
      "text/plain": [
       "(529663, 33)"
      ]
     },
     "execution_count": 2,
     "metadata": {},
     "output_type": "execute_result"
    }
   ],
   "source": [
    "data = np.load('processed_ntuples\\chunk_data.npy')\n",
    "np.shape(data)"
   ]
  },
  {
   "cell_type": "code",
   "execution_count": 3,
   "metadata": {},
   "outputs": [
    {
     "name": "stdout",
     "output_type": "stream",
     "text": [
      "lenght of training set 397247 \n",
      "lenght of validation set 132416 \n",
      "width of the sets: # of features + 1 flag (1-LL/0-TX) 33\n"
     ]
    }
   ],
   "source": [
    "train, val = train_test_split(data, random_state=137) # setting the seed for reproducibility; the default train/test split is 0.75/0.25\n",
    "print('lenght of training set', len(train), '\\nlenght of validation set', len(val), '\\nwidth of the sets: # of features + 1 flag (1-LL/0-TX)', len(train[0]))"
   ]
  },
  {
   "cell_type": "code",
   "execution_count": 4,
   "metadata": {},
   "outputs": [
    {
     "name": "stdout",
     "output_type": "stream",
     "text": [
      "32 32\n"
     ]
    }
   ],
   "source": [
    "# strip the last feature (e.g. the flag) from the sets\n",
    "\n",
    "# copy in dedicated arrays\n",
    "flags_train = train[:, -1]\n",
    "flags_val = val[:, -1]\n",
    "# delete from the sets\n",
    "train = train[:, :-1]\n",
    "val = val[:, :-1]\n",
    "# width check\n",
    "print(len(train[0]), len(val[0]))"
   ]
  },
  {
   "cell_type": "code",
   "execution_count": 5,
   "metadata": {},
   "outputs": [],
   "source": [
    "# tensorize the data, so that pytorch doesn't whine\n",
    "train = torch.tensor(train, dtype=torch.float32)\n",
    "val = torch.tensor(val, dtype=torch.float32)\n",
    "flags_train = torch.tensor(flags_train, dtype=torch.float32)\n",
    "flags_val = torch.tensor(flags_val, dtype=torch.float32)"
   ]
  },
  {
   "cell_type": "code",
   "execution_count": 6,
   "metadata": {},
   "outputs": [],
   "source": [
    "class EarlyStopping:\n",
    "    def __init__(self, patience=5, delta=0.01):\n",
    "        self.patience = patience\n",
    "        self.delta = delta\n",
    "        self.counter = 0\n",
    "        self.best_score = None\n",
    "\n",
    "    def early_stop(self, validation_loss):\n",
    "        score = -validation_loss\n",
    "        if self.best_score is None:\n",
    "            self.best_score = score\n",
    "        elif score < self.best_score + self.delta:\n",
    "            self.best_score= validation_loss\n",
    "            self.counter += 1\n",
    "            if self.counter >= self.patience:\n",
    "                return True\n",
    "        else:\n",
    "            self.best_score = score\n",
    "            self.counter = 0\n",
    "        return False"
   ]
  },
  {
   "cell_type": "code",
   "execution_count": 7,
   "metadata": {},
   "outputs": [
    {
     "name": "stderr",
     "output_type": "stream",
     "text": [
      "[I 2025-03-06 21:37:56,424] A new study created in memory with name: no-name-15f0432c-2dc6-49f4-948a-dc8a4146524d\n",
      "[I 2025-03-06 21:38:35,016] Trial 0 finished with value: 0.7210608720779419 and parameters: {'n_layers': 3, 'n_units_l0': 43, 'n_units_l1': 70, 'n_units_l2': 46, 'lr': 0.0004086088999931899}. Best is trial 0 with value: 0.7210608720779419.\n"
     ]
    },
    {
     "name": "stdout",
     "output_type": "stream",
     "text": [
      "Early stopped at epoch: 5\n"
     ]
    },
    {
     "name": "stderr",
     "output_type": "stream",
     "text": [
      "[I 2025-03-06 21:39:01,780] Trial 1 finished with value: 0.7520465850830078 and parameters: {'n_layers': 2, 'n_units_l0': 47, 'n_units_l1': 70, 'lr': 0.03333684738573851}. Best is trial 1 with value: 0.7520465850830078.\n"
     ]
    },
    {
     "name": "stdout",
     "output_type": "stream",
     "text": [
      "Early stopped at epoch: 5\n"
     ]
    },
    {
     "name": "stderr",
     "output_type": "stream",
     "text": [
      "[I 2025-03-06 21:39:45,179] Trial 2 finished with value: 0.7554298639297485 and parameters: {'n_layers': 3, 'n_units_l0': 61, 'n_units_l1': 52, 'n_units_l2': 46, 'lr': 0.0016797858211212325}. Best is trial 2 with value: 0.7554298639297485.\n"
     ]
    },
    {
     "name": "stdout",
     "output_type": "stream",
     "text": [
      "Early stopped at epoch: 7\n"
     ]
    },
    {
     "name": "stderr",
     "output_type": "stream",
     "text": [
      "[I 2025-03-06 21:40:22,105] Trial 3 finished with value: 0.7680189609527588 and parameters: {'n_layers': 2, 'n_units_l0': 83, 'n_units_l1': 66, 'lr': 0.03888450767876337}. Best is trial 3 with value: 0.7680189609527588.\n"
     ]
    },
    {
     "name": "stdout",
     "output_type": "stream",
     "text": [
      "Early stopped at epoch: 7\n"
     ]
    },
    {
     "name": "stderr",
     "output_type": "stream",
     "text": [
      "[I 2025-03-06 21:40:48,088] Trial 4 finished with value: 0.7468055486679077 and parameters: {'n_layers': 2, 'n_units_l0': 50, 'n_units_l1': 77, 'lr': 0.040558205771765124}. Best is trial 3 with value: 0.7680189609527588.\n"
     ]
    },
    {
     "name": "stdout",
     "output_type": "stream",
     "text": [
      "Early stopped at epoch: 5\n"
     ]
    },
    {
     "name": "stderr",
     "output_type": "stream",
     "text": [
      "[I 2025-03-06 21:40:56,010] Trial 5 pruned. \n",
      "[I 2025-03-06 21:41:57,195] Trial 6 finished with value: 0.7710170745849609 and parameters: {'n_layers': 4, 'n_units_l0': 63, 'n_units_l1': 47, 'n_units_l2': 48, 'n_units_l3': 73, 'lr': 0.008608937455227542}. Best is trial 6 with value: 0.7710170745849609.\n"
     ]
    },
    {
     "name": "stdout",
     "output_type": "stream",
     "text": [
      "Early stopped at epoch: 8\n"
     ]
    },
    {
     "name": "stderr",
     "output_type": "stream",
     "text": [
      "[I 2025-03-06 21:44:05,702] Trial 7 finished with value: 0.8621314764022827 and parameters: {'n_layers': 4, 'n_units_l0': 93, 'n_units_l1': 84, 'n_units_l2': 90, 'n_units_l3': 50, 'lr': 0.006108307622817766}. Best is trial 7 with value: 0.8621314764022827.\n"
     ]
    },
    {
     "name": "stdout",
     "output_type": "stream",
     "text": [
      "Early stopped at epoch: 15\n"
     ]
    },
    {
     "name": "stderr",
     "output_type": "stream",
     "text": [
      "[I 2025-03-06 21:44:13,203] Trial 8 pruned. \n",
      "[I 2025-03-06 21:44:18,953] Trial 9 pruned. \n",
      "[I 2025-03-06 21:44:27,401] Trial 10 pruned. \n",
      "[I 2025-03-06 21:44:34,632] Trial 11 pruned. \n",
      "[I 2025-03-06 21:45:49,552] Trial 12 pruned. \n",
      "[I 2025-03-06 21:45:56,898] Trial 13 pruned. \n",
      "[I 2025-03-06 21:46:02,532] Trial 14 pruned. \n",
      "[I 2025-03-06 21:46:10,190] Trial 15 pruned. \n",
      "[I 2025-03-06 21:47:11,964] Trial 16 pruned. \n",
      "[I 2025-03-06 21:47:19,680] Trial 17 pruned. \n",
      "[I 2025-03-06 21:48:18,094] Trial 18 finished with value: 0.8155887722969055 and parameters: {'n_layers': 3, 'n_units_l0': 79, 'n_units_l1': 91, 'n_units_l2': 69, 'lr': 0.003262656283378752}. Best is trial 7 with value: 0.8621314764022827.\n"
     ]
    },
    {
     "name": "stdout",
     "output_type": "stream",
     "text": [
      "Early stopped at epoch: 8\n"
     ]
    },
    {
     "name": "stderr",
     "output_type": "stream",
     "text": [
      "[I 2025-03-06 21:48:24,771] Trial 19 pruned. \n",
      "[I 2025-03-06 21:49:19,608] Trial 20 finished with value: 0.7946245074272156 and parameters: {'n_layers': 3, 'n_units_l0': 78, 'n_units_l1': 100, 'n_units_l2': 85, 'lr': 0.0035421653855362825}. Best is trial 7 with value: 0.8621314764022827.\n"
     ]
    },
    {
     "name": "stdout",
     "output_type": "stream",
     "text": [
      "Early stopped at epoch: 7\n"
     ]
    },
    {
     "name": "stderr",
     "output_type": "stream",
     "text": [
      "[I 2025-03-06 21:50:14,417] Trial 21 finished with value: 0.7994351387023926 and parameters: {'n_layers': 3, 'n_units_l0': 79, 'n_units_l1': 100, 'n_units_l2': 87, 'lr': 0.003637165112445155}. Best is trial 7 with value: 0.8621314764022827.\n"
     ]
    },
    {
     "name": "stdout",
     "output_type": "stream",
     "text": [
      "Early stopped at epoch: 7\n"
     ]
    },
    {
     "name": "stderr",
     "output_type": "stream",
     "text": [
      "[I 2025-03-06 21:50:21,753] Trial 22 pruned. \n",
      "[I 2025-03-06 21:50:30,108] Trial 23 pruned. \n",
      "[I 2025-03-06 21:51:21,503] Trial 24 pruned. \n",
      "[I 2025-03-06 21:53:11,301] Trial 25 finished with value: 0.8623656034469604 and parameters: {'n_layers': 3, 'n_units_l0': 73, 'n_units_l1': 100, 'n_units_l2': 91, 'lr': 0.0066938127713056204}. Best is trial 25 with value: 0.8623656034469604.\n"
     ]
    },
    {
     "name": "stdout",
     "output_type": "stream",
     "text": [
      "Early stopped at epoch: 13\n"
     ]
    },
    {
     "name": "stderr",
     "output_type": "stream",
     "text": [
      "[I 2025-03-06 21:53:24,464] Trial 26 pruned. \n",
      "[I 2025-03-06 21:53:38,503] Trial 27 pruned. \n",
      "[I 2025-03-06 21:54:37,721] Trial 28 pruned. \n",
      "[I 2025-03-06 21:54:44,294] Trial 29 pruned. \n",
      "[I 2025-03-06 21:54:50,522] Trial 30 pruned. \n",
      "[I 2025-03-06 21:55:05,687] Trial 31 pruned. \n",
      "[I 2025-03-06 21:56:16,157] Trial 32 pruned. \n",
      "[I 2025-03-06 21:56:24,177] Trial 33 pruned. \n",
      "[I 2025-03-06 21:56:33,145] Trial 34 pruned. \n",
      "[I 2025-03-06 21:57:01,770] Trial 35 pruned. \n",
      "[I 2025-03-06 21:57:20,341] Trial 36 pruned. \n",
      "[I 2025-03-06 21:57:53,828] Trial 37 pruned. \n",
      "[I 2025-03-06 22:00:22,857] Trial 38 finished with value: 0.8669345378875732 and parameters: {'n_layers': 2, 'n_units_l0': 91, 'n_units_l1': 95, 'lr': 0.012245586127593784}. Best is trial 38 with value: 0.8669345378875732.\n"
     ]
    },
    {
     "name": "stdout",
     "output_type": "stream",
     "text": [
      "Early stopped at epoch: 13\n"
     ]
    },
    {
     "name": "stderr",
     "output_type": "stream",
     "text": [
      "[I 2025-03-06 22:01:58,236] Trial 39 pruned. \n",
      "[I 2025-03-06 22:03:50,315] Trial 40 finished with value: 0.8574265837669373 and parameters: {'n_layers': 2, 'n_units_l0': 97, 'n_units_l1': 80, 'lr': 0.009807498377918757}. Best is trial 38 with value: 0.8669345378875732.\n"
     ]
    },
    {
     "name": "stdout",
     "output_type": "stream",
     "text": [
      "Early stopped at epoch: 11\n"
     ]
    },
    {
     "name": "stderr",
     "output_type": "stream",
     "text": [
      "[I 2025-03-06 22:04:52,682] Trial 41 pruned. \n",
      "[I 2025-03-06 22:06:21,444] Trial 42 finished with value: 0.8629697561264038 and parameters: {'n_layers': 2, 'n_units_l0': 98, 'n_units_l1': 87, 'lr': 0.030240232554737734}. Best is trial 38 with value: 0.8669345378875732.\n"
     ]
    },
    {
     "name": "stdout",
     "output_type": "stream",
     "text": [
      "Early stopped at epoch: 12\n"
     ]
    },
    {
     "name": "stderr",
     "output_type": "stream",
     "text": [
      "[I 2025-03-06 22:07:19,451] Trial 43 pruned. \n",
      "[I 2025-03-06 22:08:02,184] Trial 44 finished with value: 0.8273471593856812 and parameters: {'n_layers': 2, 'n_units_l0': 98, 'n_units_l1': 65, 'lr': 0.02798345781648337}. Best is trial 38 with value: 0.8669345378875732.\n"
     ]
    },
    {
     "name": "stdout",
     "output_type": "stream",
     "text": [
      "Early stopped at epoch: 7\n"
     ]
    },
    {
     "name": "stderr",
     "output_type": "stream",
     "text": [
      "[I 2025-03-06 22:08:56,177] Trial 45 pruned. \n",
      "[I 2025-03-06 22:10:01,667] Trial 46 pruned. \n",
      "[I 2025-03-06 22:10:07,802] Trial 47 pruned. \n",
      "[I 2025-03-06 22:11:11,760] Trial 48 pruned. \n",
      "[I 2025-03-06 22:12:34,155] Trial 49 pruned. \n",
      "[I 2025-03-06 22:12:48,478] Trial 50 pruned. \n",
      "[I 2025-03-06 22:13:55,769] Trial 51 pruned. \n",
      "[I 2025-03-06 22:14:45,092] Trial 52 pruned. \n",
      "[I 2025-03-06 22:15:34,526] Trial 53 finished with value: 0.8109971880912781 and parameters: {'n_layers': 2, 'n_units_l0': 95, 'n_units_l1': 58, 'lr': 0.03025106585082344}. Best is trial 38 with value: 0.8669345378875732.\n"
     ]
    },
    {
     "name": "stdout",
     "output_type": "stream",
     "text": [
      "Early stopped at epoch: 6\n"
     ]
    },
    {
     "name": "stderr",
     "output_type": "stream",
     "text": [
      "[I 2025-03-06 22:16:26,533] Trial 54 finished with value: 0.825783908367157 and parameters: {'n_layers': 2, 'n_units_l0': 98, 'n_units_l1': 64, 'lr': 0.013486410298090045}. Best is trial 38 with value: 0.8669345378875732.\n"
     ]
    },
    {
     "name": "stdout",
     "output_type": "stream",
     "text": [
      "Early stopped at epoch: 7\n"
     ]
    },
    {
     "name": "stderr",
     "output_type": "stream",
     "text": [
      "[I 2025-03-06 22:16:32,913] Trial 55 pruned. \n",
      "[I 2025-03-06 22:16:43,631] Trial 56 pruned. \n",
      "[I 2025-03-06 22:17:23,932] Trial 57 pruned. \n",
      "[I 2025-03-06 22:17:29,798] Trial 58 pruned. \n",
      "[I 2025-03-06 22:17:38,584] Trial 59 pruned. \n",
      "[I 2025-03-06 22:18:36,343] Trial 60 pruned. \n",
      "[I 2025-03-06 22:19:17,176] Trial 61 pruned. \n",
      "[I 2025-03-06 22:20:19,101] Trial 62 pruned. \n",
      "[I 2025-03-06 22:21:14,856] Trial 63 pruned. \n",
      "[I 2025-03-06 22:21:25,431] Trial 64 pruned. \n",
      "[I 2025-03-06 22:22:06,455] Trial 65 pruned. \n",
      "[I 2025-03-06 22:22:12,129] Trial 66 pruned. \n",
      "[I 2025-03-06 22:22:40,033] Trial 67 pruned. \n",
      "[I 2025-03-06 22:22:49,384] Trial 68 pruned. \n",
      "[I 2025-03-06 22:23:28,219] Trial 69 pruned. \n",
      "[I 2025-03-06 22:23:34,236] Trial 70 pruned. \n",
      "[I 2025-03-06 22:23:43,292] Trial 71 pruned. \n",
      "[I 2025-03-06 22:23:59,915] Trial 72 pruned. \n",
      "[I 2025-03-06 22:24:53,165] Trial 73 pruned. \n",
      "[I 2025-03-06 22:25:01,302] Trial 74 pruned. \n",
      "[I 2025-03-06 22:25:59,098] Trial 75 pruned. \n",
      "[I 2025-03-06 22:27:02,925] Trial 76 pruned. \n",
      "[I 2025-03-06 22:27:13,534] Trial 77 pruned. \n",
      "[I 2025-03-06 22:27:25,993] Trial 78 pruned. \n",
      "[I 2025-03-06 22:28:28,949] Trial 79 finished with value: 0.8231860399246216 and parameters: {'n_layers': 2, 'n_units_l0': 95, 'n_units_l1': 60, 'lr': 0.013884466435381}. Best is trial 38 with value: 0.8669345378875732.\n"
     ]
    },
    {
     "name": "stdout",
     "output_type": "stream",
     "text": [
      "Early stopped at epoch: 7\n"
     ]
    },
    {
     "name": "stderr",
     "output_type": "stream",
     "text": [
      "[I 2025-03-06 22:28:36,414] Trial 80 pruned. \n",
      "[I 2025-03-06 22:29:54,199] Trial 81 pruned. \n",
      "[I 2025-03-06 22:30:43,366] Trial 82 pruned. \n",
      "[I 2025-03-06 22:31:50,387] Trial 83 pruned. \n",
      "[I 2025-03-06 22:33:01,465] Trial 84 pruned. \n",
      "[I 2025-03-06 22:33:09,282] Trial 85 pruned. \n",
      "[I 2025-03-06 22:34:16,271] Trial 86 pruned. \n",
      "[I 2025-03-06 22:34:24,453] Trial 87 pruned. \n",
      "[I 2025-03-06 22:34:36,398] Trial 88 pruned. \n",
      "[I 2025-03-06 22:34:48,111] Trial 89 pruned. \n",
      "[I 2025-03-06 22:35:06,774] Trial 90 pruned. \n",
      "[I 2025-03-06 22:35:13,633] Trial 91 pruned. \n",
      "[I 2025-03-06 22:35:21,138] Trial 92 pruned. \n",
      "[I 2025-03-06 22:35:28,197] Trial 93 pruned. \n",
      "[I 2025-03-06 22:35:56,762] Trial 94 pruned. \n",
      "[I 2025-03-06 22:36:04,024] Trial 95 pruned. \n",
      "[I 2025-03-06 22:36:11,454] Trial 96 pruned. \n",
      "[I 2025-03-06 22:36:19,015] Trial 97 pruned. \n",
      "[I 2025-03-06 22:37:45,418] Trial 98 pruned. \n",
      "[I 2025-03-06 22:37:56,012] Trial 99 pruned. \n",
      "[I 2025-03-06 22:38:32,693] Trial 100 pruned. \n",
      "[I 2025-03-06 22:39:04,990] Trial 101 pruned. \n",
      "[I 2025-03-06 22:39:27,823] Trial 102 pruned. \n",
      "[I 2025-03-06 22:39:38,864] Trial 103 pruned. \n",
      "[I 2025-03-06 22:39:50,073] Trial 104 pruned. \n",
      "[I 2025-03-06 22:40:00,355] Trial 105 pruned. \n",
      "[I 2025-03-06 22:40:11,604] Trial 106 pruned. \n",
      "[I 2025-03-06 22:41:21,746] Trial 107 pruned. \n",
      "[I 2025-03-06 22:41:34,839] Trial 108 pruned. \n",
      "[I 2025-03-06 22:41:58,336] Trial 109 pruned. \n",
      "[I 2025-03-06 22:43:14,920] Trial 110 pruned. \n",
      "[I 2025-03-06 22:43:23,292] Trial 111 pruned. \n",
      "[I 2025-03-06 22:43:31,883] Trial 112 pruned. \n",
      "[I 2025-03-06 22:43:39,831] Trial 113 pruned. \n",
      "[I 2025-03-06 22:44:04,582] Trial 114 pruned. \n",
      "[I 2025-03-06 22:44:28,493] Trial 115 pruned. \n",
      "[I 2025-03-06 22:44:36,956] Trial 116 pruned. \n",
      "[I 2025-03-06 22:45:12,352] Trial 117 pruned. \n",
      "[I 2025-03-06 22:45:20,514] Trial 118 pruned. \n",
      "[I 2025-03-06 22:45:59,382] Trial 119 pruned. \n",
      "[I 2025-03-06 22:46:10,181] Trial 120 pruned. \n",
      "[I 2025-03-06 22:46:19,348] Trial 121 pruned. \n",
      "[I 2025-03-06 22:46:28,028] Trial 122 pruned. \n",
      "[I 2025-03-06 22:46:38,461] Trial 123 pruned. \n",
      "[I 2025-03-06 22:46:48,490] Trial 124 pruned. \n",
      "[I 2025-03-06 22:47:22,740] Trial 125 pruned. \n",
      "[I 2025-03-06 22:47:34,090] Trial 126 pruned. \n",
      "[I 2025-03-06 22:47:41,140] Trial 127 pruned. \n",
      "[I 2025-03-06 22:47:50,340] Trial 128 pruned. \n",
      "[I 2025-03-06 22:48:42,313] Trial 129 finished with value: 0.8049706816673279 and parameters: {'n_layers': 2, 'n_units_l0': 98, 'n_units_l1': 74, 'lr': 0.026306319451186253}. Best is trial 38 with value: 0.8669345378875732.\n"
     ]
    },
    {
     "name": "stdout",
     "output_type": "stream",
     "text": [
      "Early stopped at epoch: 6\n"
     ]
    },
    {
     "name": "stderr",
     "output_type": "stream",
     "text": [
      "[I 2025-03-06 22:49:36,519] Trial 130 finished with value: 0.8142218589782715 and parameters: {'n_layers': 2, 'n_units_l0': 98, 'n_units_l1': 81, 'lr': 0.03206179353064992}. Best is trial 38 with value: 0.8669345378875732.\n"
     ]
    },
    {
     "name": "stdout",
     "output_type": "stream",
     "text": [
      "Early stopped at epoch: 6\n"
     ]
    },
    {
     "name": "stderr",
     "output_type": "stream",
     "text": [
      "[I 2025-03-06 22:49:44,333] Trial 131 pruned. \n",
      "[I 2025-03-06 22:50:33,842] Trial 132 finished with value: 0.8324673771858215 and parameters: {'n_layers': 2, 'n_units_l0': 100, 'n_units_l1': 79, 'lr': 0.02855975984437163}. Best is trial 38 with value: 0.8669345378875732.\n"
     ]
    },
    {
     "name": "stdout",
     "output_type": "stream",
     "text": [
      "Early stopped at epoch: 6\n"
     ]
    },
    {
     "name": "stderr",
     "output_type": "stream",
     "text": [
      "[I 2025-03-06 22:50:47,751] Trial 133 pruned. \n",
      "[I 2025-03-06 22:51:08,732] Trial 134 pruned. \n",
      "[I 2025-03-06 22:51:30,152] Trial 135 pruned. \n",
      "[I 2025-03-06 22:51:37,097] Trial 136 pruned. \n",
      "[I 2025-03-06 22:51:44,020] Trial 137 pruned. \n",
      "[I 2025-03-06 22:52:30,232] Trial 138 pruned. \n",
      "[I 2025-03-06 22:52:36,579] Trial 139 pruned. \n",
      "[I 2025-03-06 22:53:48,789] Trial 140 pruned. \n",
      "[I 2025-03-06 22:54:49,340] Trial 141 pruned. \n",
      "[I 2025-03-06 22:56:49,273] Trial 142 finished with value: 0.8703328967094421 and parameters: {'n_layers': 2, 'n_units_l0': 98, 'n_units_l1': 83, 'lr': 0.015605285422364282}. Best is trial 142 with value: 0.8703328967094421.\n"
     ]
    },
    {
     "name": "stdout",
     "output_type": "stream",
     "text": [
      "Early stopped at epoch: 15\n"
     ]
    },
    {
     "name": "stderr",
     "output_type": "stream",
     "text": [
      "[I 2025-03-06 22:58:08,372] Trial 143 finished with value: 0.8673574328422546 and parameters: {'n_layers': 2, 'n_units_l0': 98, 'n_units_l1': 86, 'lr': 0.013499430427999897}. Best is trial 142 with value: 0.8703328967094421.\n"
     ]
    },
    {
     "name": "stdout",
     "output_type": "stream",
     "text": [
      "Early stopped at epoch: 12\n"
     ]
    },
    {
     "name": "stderr",
     "output_type": "stream",
     "text": [
      "[I 2025-03-06 22:59:50,975] Trial 144 finished with value: 0.8650691509246826 and parameters: {'n_layers': 2, 'n_units_l0': 99, 'n_units_l1': 82, 'lr': 0.01588341072846349}. Best is trial 142 with value: 0.8703328967094421.\n"
     ]
    },
    {
     "name": "stdout",
     "output_type": "stream",
     "text": [
      "Early stopped at epoch: 13\n"
     ]
    },
    {
     "name": "stderr",
     "output_type": "stream",
     "text": [
      "[I 2025-03-06 23:00:27,435] Trial 145 pruned. \n",
      "[I 2025-03-06 23:01:41,407] Trial 146 pruned. \n",
      "[I 2025-03-06 23:02:15,325] Trial 147 pruned. \n",
      "[I 2025-03-06 23:03:09,186] Trial 148 pruned. \n",
      "[I 2025-03-06 23:04:00,733] Trial 149 pruned. \n",
      "[I 2025-03-06 23:05:34,406] Trial 150 finished with value: 0.8681126236915588 and parameters: {'n_layers': 2, 'n_units_l0': 97, 'n_units_l1': 83, 'lr': 0.016300758911035457}. Best is trial 142 with value: 0.8703328967094421.\n"
     ]
    },
    {
     "name": "stdout",
     "output_type": "stream",
     "text": [
      "Early stopped at epoch: 11\n"
     ]
    },
    {
     "name": "stderr",
     "output_type": "stream",
     "text": [
      "[I 2025-03-06 23:06:45,748] Trial 151 pruned. \n",
      "[I 2025-03-06 23:07:54,446] Trial 152 pruned. \n",
      "[I 2025-03-06 23:09:25,639] Trial 153 pruned. \n",
      "[I 2025-03-06 23:10:30,886] Trial 154 pruned. \n",
      "[I 2025-03-06 23:10:46,410] Trial 155 pruned. \n",
      "[I 2025-03-06 23:11:58,354] Trial 156 pruned. \n",
      "[I 2025-03-06 23:12:58,256] Trial 157 pruned. \n",
      "[I 2025-03-06 23:13:39,371] Trial 158 pruned. \n",
      "[I 2025-03-06 23:14:35,768] Trial 159 pruned. \n",
      "[I 2025-03-06 23:14:41,875] Trial 160 pruned. \n",
      "[I 2025-03-06 23:14:53,762] Trial 161 pruned. \n",
      "[I 2025-03-06 23:15:25,986] Trial 162 pruned. \n",
      "[I 2025-03-06 23:16:41,571] Trial 163 pruned. \n",
      "[I 2025-03-06 23:17:45,118] Trial 164 pruned. \n",
      "[I 2025-03-06 23:17:56,714] Trial 165 pruned. \n",
      "[I 2025-03-06 23:18:03,043] Trial 166 pruned. \n",
      "[I 2025-03-06 23:18:09,201] Trial 167 pruned. \n",
      "[I 2025-03-06 23:19:15,133] Trial 168 pruned. \n",
      "[I 2025-03-06 23:19:21,093] Trial 169 pruned. \n",
      "[I 2025-03-06 23:19:27,716] Trial 170 pruned. \n",
      "[I 2025-03-06 23:20:26,788] Trial 171 pruned. \n",
      "[I 2025-03-06 23:20:50,039] Trial 172 pruned. \n",
      "[I 2025-03-06 23:21:33,475] Trial 173 pruned. \n",
      "[I 2025-03-06 23:22:39,912] Trial 174 finished with value: 0.8694643974304199 and parameters: {'n_layers': 2, 'n_units_l0': 99, 'n_units_l1': 81, 'lr': 0.013119773131108932}. Best is trial 142 with value: 0.8703328967094421.\n"
     ]
    },
    {
     "name": "stdout",
     "output_type": "stream",
     "text": [
      "Early stopped at epoch: 13\n"
     ]
    },
    {
     "name": "stderr",
     "output_type": "stream",
     "text": [
      "[I 2025-03-06 23:23:11,629] Trial 175 pruned. \n",
      "[I 2025-03-06 23:23:52,398] Trial 176 pruned. \n",
      "[I 2025-03-06 23:24:02,056] Trial 177 pruned. \n",
      "[I 2025-03-06 23:24:11,785] Trial 178 pruned. \n",
      "[I 2025-03-06 23:24:53,165] Trial 179 pruned. \n",
      "[I 2025-03-06 23:25:26,935] Trial 180 finished with value: 0.8381766676902771 and parameters: {'n_layers': 2, 'n_units_l0': 96, 'n_units_l1': 56, 'lr': 0.014044696935871473}. Best is trial 142 with value: 0.8703328967094421.\n"
     ]
    },
    {
     "name": "stdout",
     "output_type": "stream",
     "text": [
      "Early stopped at epoch: 7\n"
     ]
    },
    {
     "name": "stderr",
     "output_type": "stream",
     "text": [
      "[I 2025-03-06 23:25:48,514] Trial 181 pruned. \n",
      "[I 2025-03-06 23:25:57,207] Trial 182 pruned. \n",
      "[I 2025-03-06 23:26:06,144] Trial 183 pruned. \n",
      "[I 2025-03-06 23:26:37,354] Trial 184 pruned. \n",
      "[I 2025-03-06 23:26:46,635] Trial 185 pruned. \n",
      "[I 2025-03-06 23:27:29,569] Trial 186 pruned. \n",
      "[I 2025-03-06 23:27:34,316] Trial 187 pruned. \n",
      "[I 2025-03-06 23:28:16,006] Trial 188 pruned. \n",
      "[I 2025-03-06 23:29:16,457] Trial 189 finished with value: 0.8666399717330933 and parameters: {'n_layers': 2, 'n_units_l0': 98, 'n_units_l1': 84, 'lr': 0.008843650573727697}. Best is trial 142 with value: 0.8703328967094421.\n"
     ]
    },
    {
     "name": "stdout",
     "output_type": "stream",
     "text": [
      "Early stopped at epoch: 12\n"
     ]
    },
    {
     "name": "stderr",
     "output_type": "stream",
     "text": [
      "[I 2025-03-06 23:29:43,802] Trial 190 pruned. \n",
      "[I 2025-03-06 23:30:26,553] Trial 191 pruned. \n",
      "[I 2025-03-06 23:31:08,997] Trial 192 pruned. \n",
      "[I 2025-03-06 23:31:13,131] Trial 193 pruned. \n",
      "[I 2025-03-06 23:31:55,869] Trial 194 pruned. \n",
      "[I 2025-03-06 23:32:28,609] Trial 195 finished with value: 0.8262445330619812 and parameters: {'n_layers': 2, 'n_units_l0': 95, 'n_units_l1': 84, 'lr': 0.01186924246472504}. Best is trial 142 with value: 0.8703328967094421.\n"
     ]
    },
    {
     "name": "stdout",
     "output_type": "stream",
     "text": [
      "Early stopped at epoch: 6\n"
     ]
    },
    {
     "name": "stderr",
     "output_type": "stream",
     "text": [
      "[I 2025-03-06 23:33:34,598] Trial 196 pruned. \n",
      "[I 2025-03-06 23:34:00,987] Trial 197 pruned. \n",
      "[I 2025-03-06 23:34:41,298] Trial 198 pruned. \n",
      "[I 2025-03-06 23:35:03,377] Trial 199 pruned. \n",
      "[I 2025-03-06 23:35:24,508] Trial 200 pruned. \n",
      "[I 2025-03-06 23:36:10,050] Trial 201 pruned. \n",
      "[I 2025-03-06 23:36:14,676] Trial 202 pruned. \n",
      "[I 2025-03-06 23:36:32,075] Trial 203 pruned. \n",
      "[I 2025-03-06 23:37:03,733] Trial 204 pruned. \n",
      "[I 2025-03-06 23:37:12,977] Trial 205 pruned. \n",
      "[I 2025-03-06 23:37:39,459] Trial 206 pruned. \n",
      "[I 2025-03-06 23:38:30,099] Trial 207 pruned. \n",
      "[I 2025-03-06 23:39:11,115] Trial 208 pruned. \n",
      "[I 2025-03-06 23:39:20,259] Trial 209 pruned. \n",
      "[I 2025-03-06 23:39:29,462] Trial 210 pruned. \n",
      "[I 2025-03-06 23:39:35,315] Trial 211 pruned. \n",
      "[I 2025-03-06 23:39:47,053] Trial 212 pruned. \n",
      "[I 2025-03-06 23:39:53,279] Trial 213 pruned. \n",
      "[I 2025-03-06 23:40:42,668] Trial 214 pruned. \n",
      "[I 2025-03-06 23:40:47,158] Trial 215 pruned. \n",
      "[I 2025-03-06 23:41:24,513] Trial 216 pruned. \n",
      "[I 2025-03-06 23:41:30,254] Trial 217 pruned. \n",
      "[I 2025-03-06 23:41:34,683] Trial 218 pruned. \n",
      "[I 2025-03-06 23:42:00,673] Trial 219 pruned. \n",
      "[I 2025-03-06 23:42:05,276] Trial 220 pruned. \n",
      "[I 2025-03-06 23:42:11,461] Trial 221 pruned. \n",
      "[I 2025-03-06 23:42:17,567] Trial 222 pruned. \n",
      "[I 2025-03-06 23:42:23,746] Trial 223 pruned. \n",
      "[I 2025-03-06 23:42:29,374] Trial 224 pruned. \n",
      "[I 2025-03-06 23:42:35,610] Trial 225 pruned. \n",
      "[I 2025-03-06 23:42:40,144] Trial 226 pruned. \n",
      "[I 2025-03-06 23:42:44,509] Trial 227 pruned. \n",
      "[I 2025-03-06 23:42:52,741] Trial 228 pruned. \n",
      "[I 2025-03-06 23:43:33,171] Trial 229 pruned. \n",
      "[I 2025-03-06 23:43:38,949] Trial 230 pruned. \n",
      "[I 2025-03-06 23:43:46,018] Trial 231 pruned. \n",
      "[I 2025-03-06 23:43:53,641] Trial 232 pruned. \n",
      "[I 2025-03-06 23:44:00,783] Trial 233 pruned. \n",
      "[I 2025-03-06 23:44:07,735] Trial 234 pruned. \n",
      "[I 2025-03-06 23:44:14,660] Trial 235 pruned. \n",
      "[I 2025-03-06 23:44:18,427] Trial 236 pruned. \n",
      "[I 2025-03-06 23:44:22,399] Trial 237 pruned. \n",
      "[I 2025-03-06 23:44:30,380] Trial 238 pruned. \n",
      "[I 2025-03-06 23:44:34,580] Trial 239 pruned. \n",
      "[I 2025-03-06 23:44:40,779] Trial 240 pruned. \n",
      "[I 2025-03-06 23:44:45,511] Trial 241 pruned. \n",
      "[I 2025-03-06 23:44:49,598] Trial 242 pruned. \n",
      "[I 2025-03-06 23:44:53,999] Trial 243 pruned. \n",
      "[I 2025-03-06 23:44:58,290] Trial 244 pruned. \n",
      "[I 2025-03-06 23:45:02,377] Trial 245 pruned. \n",
      "[I 2025-03-06 23:45:07,078] Trial 246 pruned. \n",
      "[I 2025-03-06 23:45:11,343] Trial 247 pruned. \n",
      "[I 2025-03-06 23:45:50,735] Trial 248 pruned. \n",
      "[I 2025-03-06 23:45:59,373] Trial 249 pruned. \n",
      "[I 2025-03-06 23:46:04,984] Trial 250 pruned. \n",
      "[I 2025-03-06 23:46:44,345] Trial 251 pruned. \n",
      "[I 2025-03-06 23:47:16,437] Trial 252 pruned. \n",
      "[I 2025-03-06 23:47:20,890] Trial 253 pruned. \n",
      "[I 2025-03-06 23:47:26,145] Trial 254 pruned. \n",
      "[I 2025-03-06 23:47:55,103] Trial 255 pruned. \n",
      "[I 2025-03-06 23:48:03,905] Trial 256 pruned. \n",
      "[I 2025-03-06 23:48:07,920] Trial 257 pruned. \n",
      "[I 2025-03-06 23:48:15,389] Trial 258 pruned. \n",
      "[I 2025-03-06 23:49:11,260] Trial 259 finished with value: 0.8643441796302795 and parameters: {'n_layers': 2, 'n_units_l0': 99, 'n_units_l1': 91, 'lr': 0.010148126665124298}. Best is trial 142 with value: 0.8703328967094421.\n"
     ]
    },
    {
     "name": "stdout",
     "output_type": "stream",
     "text": [
      "Early stopped at epoch: 11\n"
     ]
    },
    {
     "name": "stderr",
     "output_type": "stream",
     "text": [
      "[I 2025-03-06 23:49:45,360] Trial 260 pruned. \n",
      "[I 2025-03-06 23:50:37,320] Trial 261 pruned. \n",
      "[I 2025-03-06 23:51:09,565] Trial 262 pruned. \n",
      "[I 2025-03-06 23:51:51,490] Trial 263 pruned. \n",
      "[I 2025-03-06 23:52:34,348] Trial 264 pruned. \n",
      "[I 2025-03-06 23:52:38,829] Trial 265 pruned. \n",
      "[I 2025-03-06 23:52:47,564] Trial 266 pruned. \n",
      "[I 2025-03-06 23:53:16,660] Trial 267 pruned. \n",
      "[I 2025-03-06 23:53:23,233] Trial 268 pruned. \n",
      "[I 2025-03-06 23:53:58,560] Trial 269 pruned. \n",
      "[I 2025-03-06 23:54:03,465] Trial 270 pruned. \n",
      "[I 2025-03-06 23:54:11,142] Trial 271 pruned. \n",
      "[I 2025-03-06 23:54:20,714] Trial 272 pruned. \n",
      "[I 2025-03-06 23:54:26,799] Trial 273 pruned. \n",
      "[I 2025-03-06 23:54:54,059] Trial 274 pruned. \n",
      "[I 2025-03-06 23:54:58,764] Trial 275 pruned. \n",
      "[I 2025-03-06 23:55:47,736] Trial 276 pruned. \n",
      "[I 2025-03-06 23:55:57,255] Trial 277 pruned. \n",
      "[I 2025-03-06 23:56:06,301] Trial 278 pruned. \n",
      "[I 2025-03-06 23:57:16,572] Trial 279 finished with value: 0.8694795370101929 and parameters: {'n_layers': 2, 'n_units_l0': 97, 'n_units_l1': 85, 'lr': 0.010977353718491003}. Best is trial 142 with value: 0.8703328967094421.\n"
     ]
    },
    {
     "name": "stdout",
     "output_type": "stream",
     "text": [
      "Early stopped at epoch: 14\n"
     ]
    },
    {
     "name": "stderr",
     "output_type": "stream",
     "text": [
      "[I 2025-03-06 23:57:30,916] Trial 280 pruned. \n",
      "[I 2025-03-06 23:58:27,467] Trial 281 pruned. \n",
      "[I 2025-03-06 23:59:04,863] Trial 282 pruned. \n",
      "[I 2025-03-06 23:59:09,175] Trial 283 pruned. \n",
      "[I 2025-03-07 00:00:15,426] Trial 284 finished with value: 0.8696909546852112 and parameters: {'n_layers': 2, 'n_units_l0': 99, 'n_units_l1': 84, 'lr': 0.017198415078593342}. Best is trial 142 with value: 0.8703328967094421.\n"
     ]
    },
    {
     "name": "stdout",
     "output_type": "stream",
     "text": [
      "Early stopped at epoch: 13\n"
     ]
    },
    {
     "name": "stderr",
     "output_type": "stream",
     "text": [
      "[I 2025-03-07 00:00:20,272] Trial 285 pruned. \n",
      "[I 2025-03-07 00:00:25,061] Trial 286 pruned. \n",
      "[I 2025-03-07 00:01:10,693] Trial 287 pruned. \n",
      "[I 2025-03-07 00:01:24,096] Trial 288 pruned. \n",
      "[I 2025-03-07 00:02:18,419] Trial 289 pruned. \n",
      "[I 2025-03-07 00:02:45,502] Trial 290 pruned. \n",
      "[I 2025-03-07 00:03:21,541] Trial 291 pruned. \n",
      "[I 2025-03-07 00:03:25,965] Trial 292 pruned. \n",
      "[I 2025-03-07 00:03:29,882] Trial 293 pruned. \n",
      "[I 2025-03-07 00:03:42,593] Trial 294 pruned. \n",
      "[I 2025-03-07 00:04:23,000] Trial 295 pruned. \n",
      "[I 2025-03-07 00:04:47,589] Trial 296 pruned. \n",
      "[I 2025-03-07 00:04:52,160] Trial 297 pruned. \n",
      "[I 2025-03-07 00:05:41,360] Trial 298 pruned. \n",
      "[I 2025-03-07 00:05:50,567] Trial 299 pruned. \n",
      "[I 2025-03-07 00:05:55,229] Trial 300 pruned. \n",
      "[I 2025-03-07 00:06:21,404] Trial 301 pruned. \n",
      "[I 2025-03-07 00:07:20,031] Trial 302 finished with value: 0.8724852204322815 and parameters: {'n_layers': 2, 'n_units_l0': 98, 'n_units_l1': 84, 'lr': 0.008655714654422043}. Best is trial 302 with value: 0.8724852204322815.\n"
     ]
    },
    {
     "name": "stdout",
     "output_type": "stream",
     "text": [
      "Early stopped at epoch: 12\n"
     ]
    },
    {
     "name": "stderr",
     "output_type": "stream",
     "text": [
      "[I 2025-03-07 00:08:11,995] Trial 303 pruned. \n",
      "[I 2025-03-07 00:08:59,422] Trial 304 pruned. \n",
      "[I 2025-03-07 00:09:32,278] Trial 305 pruned. \n",
      "[I 2025-03-07 00:10:05,249] Trial 306 pruned. \n",
      "[I 2025-03-07 00:10:10,324] Trial 307 pruned. \n",
      "[I 2025-03-07 00:10:51,304] Trial 308 pruned. \n",
      "[I 2025-03-07 00:10:56,171] Trial 309 pruned. \n",
      "[I 2025-03-07 00:11:24,796] Trial 310 pruned. \n",
      "[I 2025-03-07 00:11:34,644] Trial 311 pruned. \n",
      "[I 2025-03-07 00:12:02,189] Trial 312 pruned. \n",
      "[I 2025-03-07 00:12:15,870] Trial 313 pruned. \n",
      "[I 2025-03-07 00:12:29,615] Trial 314 pruned. \n",
      "[I 2025-03-07 00:12:34,418] Trial 315 pruned. \n",
      "[I 2025-03-07 00:13:14,984] Trial 316 pruned. \n",
      "[I 2025-03-07 00:13:19,341] Trial 317 pruned. \n",
      "[I 2025-03-07 00:13:24,003] Trial 318 pruned. \n",
      "[I 2025-03-07 00:13:37,800] Trial 319 pruned. \n",
      "[I 2025-03-07 00:14:20,329] Trial 320 pruned. \n",
      "[I 2025-03-07 00:15:05,987] Trial 321 pruned. \n",
      "[I 2025-03-07 00:15:10,881] Trial 322 pruned. \n",
      "[I 2025-03-07 00:15:34,082] Trial 323 pruned. \n",
      "[I 2025-03-07 00:15:42,643] Trial 324 pruned. \n",
      "[I 2025-03-07 00:16:23,949] Trial 325 pruned. \n",
      "[I 2025-03-07 00:16:56,362] Trial 326 pruned. \n",
      "[I 2025-03-07 00:17:00,972] Trial 327 pruned. \n",
      "[I 2025-03-07 00:17:05,386] Trial 328 pruned. \n",
      "[I 2025-03-07 00:17:18,869] Trial 329 pruned. \n",
      "[I 2025-03-07 00:17:56,194] Trial 330 finished with value: 0.8417713642120361 and parameters: {'n_layers': 2, 'n_units_l0': 98, 'n_units_l1': 88, 'lr': 0.018610204268042548}. Best is trial 302 with value: 0.8724852204322815.\n"
     ]
    },
    {
     "name": "stdout",
     "output_type": "stream",
     "text": [
      "Early stopped at epoch: 7\n"
     ]
    },
    {
     "name": "stderr",
     "output_type": "stream",
     "text": [
      "[I 2025-03-07 00:18:19,415] Trial 331 pruned. \n",
      "[I 2025-03-07 00:18:29,091] Trial 332 pruned. \n",
      "[I 2025-03-07 00:18:38,734] Trial 333 pruned. \n",
      "[I 2025-03-07 00:19:20,820] Trial 334 pruned. \n",
      "[I 2025-03-07 00:19:25,462] Trial 335 pruned. \n",
      "[I 2025-03-07 00:19:29,377] Trial 336 pruned. \n",
      "[I 2025-03-07 00:20:10,048] Trial 337 pruned. \n",
      "[I 2025-03-07 00:20:24,428] Trial 338 pruned. \n",
      "[I 2025-03-07 00:20:33,736] Trial 339 pruned. \n",
      "[I 2025-03-07 00:21:16,000] Trial 340 pruned. \n",
      "[I 2025-03-07 00:22:06,268] Trial 341 pruned. \n",
      "[I 2025-03-07 00:22:48,865] Trial 342 pruned. \n",
      "[I 2025-03-07 00:22:53,517] Trial 343 pruned. \n",
      "[I 2025-03-07 00:23:26,257] Trial 344 pruned. \n",
      "[I 2025-03-07 00:23:39,718] Trial 345 pruned. \n",
      "[I 2025-03-07 00:23:44,684] Trial 346 pruned. \n",
      "[I 2025-03-07 00:24:08,095] Trial 347 pruned. \n",
      "[I 2025-03-07 00:24:54,135] Trial 348 pruned. \n",
      "[I 2025-03-07 00:25:36,004] Trial 349 pruned. \n",
      "[I 2025-03-07 00:25:40,661] Trial 350 pruned. \n",
      "[I 2025-03-07 00:26:27,218] Trial 351 pruned. \n",
      "[I 2025-03-07 00:26:31,997] Trial 352 pruned. \n",
      "[I 2025-03-07 00:26:46,515] Trial 353 pruned. \n",
      "[I 2025-03-07 00:26:51,193] Trial 354 pruned. \n",
      "[I 2025-03-07 00:27:12,057] Trial 355 pruned. \n",
      "[I 2025-03-07 00:27:17,075] Trial 356 pruned. \n",
      "[I 2025-03-07 00:28:08,112] Trial 357 pruned. \n",
      "[I 2025-03-07 00:28:16,819] Trial 358 pruned. \n",
      "[I 2025-03-07 00:28:29,591] Trial 359 pruned. \n",
      "[I 2025-03-07 00:28:34,416] Trial 360 pruned. \n",
      "[I 2025-03-07 00:28:53,321] Trial 361 pruned. \n",
      "[I 2025-03-07 00:29:07,835] Trial 362 pruned. \n",
      "[I 2025-03-07 00:29:33,941] Trial 363 pruned. \n",
      "[I 2025-03-07 00:30:00,852] Trial 364 pruned. \n",
      "[I 2025-03-07 00:30:05,634] Trial 365 pruned. \n",
      "[I 2025-03-07 00:30:10,248] Trial 366 pruned. \n",
      "[I 2025-03-07 00:31:01,775] Trial 367 pruned. \n",
      "[I 2025-03-07 00:31:29,182] Trial 368 pruned. \n",
      "[I 2025-03-07 00:31:47,579] Trial 369 pruned. \n",
      "[I 2025-03-07 00:31:57,243] Trial 370 pruned. \n",
      "[I 2025-03-07 00:32:44,249] Trial 371 pruned. \n",
      "[I 2025-03-07 00:32:48,797] Trial 372 pruned. \n",
      "[I 2025-03-07 00:33:30,675] Trial 373 pruned. \n",
      "[I 2025-03-07 00:34:28,131] Trial 374 finished with value: 0.8652201890945435 and parameters: {'n_layers': 2, 'n_units_l0': 100, 'n_units_l1': 89, 'lr': 0.010163689701190163}. Best is trial 302 with value: 0.8724852204322815.\n"
     ]
    },
    {
     "name": "stdout",
     "output_type": "stream",
     "text": [
      "Early stopped at epoch: 11\n"
     ]
    },
    {
     "name": "stderr",
     "output_type": "stream",
     "text": [
      "[I 2025-03-07 00:34:52,105] Trial 375 pruned. \n",
      "[I 2025-03-07 00:35:33,554] Trial 376 pruned. \n",
      "[I 2025-03-07 00:35:41,094] Trial 377 pruned. \n",
      "[I 2025-03-07 00:36:36,220] Trial 378 finished with value: 0.8680219650268555 and parameters: {'n_layers': 2, 'n_units_l0': 100, 'n_units_l1': 88, 'lr': 0.012018912671851819}. Best is trial 302 with value: 0.8724852204322815.\n"
     ]
    },
    {
     "name": "stdout",
     "output_type": "stream",
     "text": [
      "Early stopped at epoch: 11\n"
     ]
    },
    {
     "name": "stderr",
     "output_type": "stream",
     "text": [
      "[I 2025-03-07 00:36:45,521] Trial 379 pruned. \n",
      "[I 2025-03-07 00:36:51,978] Trial 380 pruned. \n",
      "[I 2025-03-07 00:37:23,692] Trial 381 pruned. \n",
      "[I 2025-03-07 00:38:05,000] Trial 382 pruned. \n",
      "[I 2025-03-07 00:38:19,251] Trial 383 pruned. \n",
      "[I 2025-03-07 00:38:25,342] Trial 384 pruned. \n",
      "[I 2025-03-07 00:39:06,708] Trial 385 pruned. \n",
      "[I 2025-03-07 00:39:29,825] Trial 386 pruned. \n",
      "[I 2025-03-07 00:40:01,156] Trial 387 pruned. \n",
      "[I 2025-03-07 00:40:24,669] Trial 388 pruned. \n",
      "[I 2025-03-07 00:40:37,946] Trial 389 pruned. \n",
      "[I 2025-03-07 00:41:14,631] Trial 390 pruned. \n",
      "[I 2025-03-07 00:41:37,780] Trial 391 pruned. \n",
      "[I 2025-03-07 00:42:42,351] Trial 392 finished with value: 0.8685657382011414 and parameters: {'n_layers': 2, 'n_units_l0': 97, 'n_units_l1': 90, 'lr': 0.014297912006794821}. Best is trial 302 with value: 0.8724852204322815.\n"
     ]
    },
    {
     "name": "stdout",
     "output_type": "stream",
     "text": [
      "Early stopped at epoch: 13\n"
     ]
    },
    {
     "name": "stderr",
     "output_type": "stream",
     "text": [
      "[I 2025-03-07 00:42:50,899] Trial 393 pruned. \n",
      "[I 2025-03-07 00:43:00,512] Trial 394 pruned. \n",
      "[I 2025-03-07 00:43:04,896] Trial 395 pruned. \n",
      "[I 2025-03-07 00:43:19,191] Trial 396 pruned. \n",
      "[I 2025-03-07 00:43:32,849] Trial 397 pruned. \n",
      "[I 2025-03-07 00:44:10,032] Trial 398 pruned. \n",
      "[I 2025-03-07 00:44:42,260] Trial 399 pruned. \n",
      "[I 2025-03-07 00:44:55,359] Trial 400 pruned. \n",
      "[I 2025-03-07 00:45:36,521] Trial 401 pruned. \n",
      "[I 2025-03-07 00:46:09,784] Trial 402 pruned. \n",
      "[I 2025-03-07 00:46:18,647] Trial 403 pruned. \n",
      "[I 2025-03-07 00:46:50,196] Trial 404 pruned. \n",
      "[I 2025-03-07 00:46:55,097] Trial 405 pruned. \n",
      "[I 2025-03-07 00:46:59,944] Trial 406 pruned. \n",
      "[I 2025-03-07 00:47:32,150] Trial 407 pruned. \n",
      "[I 2025-03-07 00:48:03,130] Trial 408 pruned. \n",
      "[I 2025-03-07 00:49:05,630] Trial 409 finished with value: 0.8677727580070496 and parameters: {'n_layers': 2, 'n_units_l0': 99, 'n_units_l1': 97, 'lr': 0.01463290870196419}. Best is trial 302 with value: 0.8724852204322815.\n"
     ]
    },
    {
     "name": "stdout",
     "output_type": "stream",
     "text": [
      "Early stopped at epoch: 12\n"
     ]
    },
    {
     "name": "stderr",
     "output_type": "stream",
     "text": [
      "[I 2025-03-07 00:49:20,031] Trial 410 pruned. \n",
      "[I 2025-03-07 00:50:04,003] Trial 411 pruned. \n",
      "[I 2025-03-07 00:50:28,533] Trial 412 pruned. \n",
      "[I 2025-03-07 00:50:35,752] Trial 413 pruned. \n",
      "[I 2025-03-07 00:50:40,398] Trial 414 pruned. \n",
      "[I 2025-03-07 00:51:33,634] Trial 415 pruned. \n",
      "[I 2025-03-07 00:51:47,836] Trial 416 pruned. \n",
      "[I 2025-03-07 00:52:35,721] Trial 417 pruned. \n",
      "[I 2025-03-07 00:53:07,713] Trial 418 pruned. \n",
      "[I 2025-03-07 00:53:43,459] Trial 419 pruned. \n",
      "[I 2025-03-07 00:54:28,029] Trial 420 pruned. \n",
      "[I 2025-03-07 00:54:32,628] Trial 421 pruned. \n",
      "[I 2025-03-07 00:55:18,351] Trial 422 pruned. \n",
      "[I 2025-03-07 00:55:55,887] Trial 423 pruned. \n",
      "[I 2025-03-07 00:56:49,615] Trial 424 pruned. \n",
      "[I 2025-03-07 00:57:25,531] Trial 425 pruned. \n",
      "[I 2025-03-07 00:57:49,185] Trial 426 pruned. \n",
      "[I 2025-03-07 00:58:36,359] Trial 427 pruned. \n",
      "[I 2025-03-07 00:59:14,733] Trial 428 pruned. \n",
      "[I 2025-03-07 00:59:24,350] Trial 429 pruned. \n",
      "[I 2025-03-07 00:59:29,221] Trial 430 pruned. \n",
      "[I 2025-03-07 00:59:37,918] Trial 431 pruned. \n",
      "[I 2025-03-07 00:59:44,873] Trial 432 pruned. \n",
      "[I 2025-03-07 01:00:18,735] Trial 433 pruned. \n",
      "[I 2025-03-07 01:00:33,407] Trial 434 pruned. \n",
      "[I 2025-03-07 01:00:47,329] Trial 435 pruned. \n",
      "[I 2025-03-07 01:01:19,641] Trial 436 pruned. \n",
      "[I 2025-03-07 01:01:51,415] Trial 437 pruned. \n",
      "[I 2025-03-07 01:01:56,214] Trial 438 pruned. \n",
      "[I 2025-03-07 01:02:10,204] Trial 439 pruned. \n",
      "[I 2025-03-07 01:02:43,079] Trial 440 pruned. \n",
      "[I 2025-03-07 01:03:06,865] Trial 441 pruned. \n",
      "[I 2025-03-07 01:03:11,785] Trial 442 pruned. \n",
      "[I 2025-03-07 01:03:18,444] Trial 443 pruned. \n",
      "[I 2025-03-07 01:03:22,765] Trial 444 pruned. \n",
      "[I 2025-03-07 01:03:55,321] Trial 445 pruned. \n",
      "[I 2025-03-07 01:04:29,126] Trial 446 pruned. \n",
      "[I 2025-03-07 01:04:42,745] Trial 447 pruned. \n",
      "[I 2025-03-07 01:04:46,409] Trial 448 pruned. \n",
      "[I 2025-03-07 01:04:56,356] Trial 449 pruned. \n",
      "[I 2025-03-07 01:05:47,741] Trial 450 pruned. \n",
      "[I 2025-03-07 01:05:56,868] Trial 451 pruned. \n",
      "[I 2025-03-07 01:06:06,365] Trial 452 pruned. \n",
      "[I 2025-03-07 01:06:15,862] Trial 453 pruned. \n",
      "[I 2025-03-07 01:06:20,646] Trial 454 pruned. \n",
      "[I 2025-03-07 01:06:43,918] Trial 455 pruned. \n",
      "[I 2025-03-07 01:07:24,309] Trial 456 pruned. \n",
      "[I 2025-03-07 01:08:02,917] Trial 457 pruned. \n",
      "[I 2025-03-07 01:08:17,054] Trial 458 pruned. \n",
      "[I 2025-03-07 01:08:21,747] Trial 459 pruned. \n",
      "[I 2025-03-07 01:08:44,373] Trial 460 pruned. \n",
      "[I 2025-03-07 01:08:52,190] Trial 461 pruned. \n",
      "[I 2025-03-07 01:09:39,170] Trial 462 pruned. \n",
      "[I 2025-03-07 01:09:43,704] Trial 463 pruned. \n",
      "[I 2025-03-07 01:09:47,872] Trial 464 pruned. \n",
      "[I 2025-03-07 01:10:01,521] Trial 465 pruned. \n",
      "[I 2025-03-07 01:10:52,894] Trial 466 pruned. \n",
      "[I 2025-03-07 01:10:57,366] Trial 467 pruned. \n",
      "[I 2025-03-07 01:11:44,358] Trial 468 pruned. \n",
      "[I 2025-03-07 01:12:17,186] Trial 469 pruned. \n",
      "[I 2025-03-07 01:12:40,173] Trial 470 pruned. \n",
      "[I 2025-03-07 01:12:45,173] Trial 471 pruned. \n",
      "[I 2025-03-07 01:12:59,319] Trial 472 pruned. \n",
      "[I 2025-03-07 01:13:04,200] Trial 473 pruned. \n",
      "[I 2025-03-07 01:13:13,182] Trial 474 pruned. \n",
      "[I 2025-03-07 01:13:36,096] Trial 475 pruned. \n",
      "[I 2025-03-07 01:14:18,309] Trial 476 pruned. \n",
      "[I 2025-03-07 01:14:38,166] Trial 477 pruned. \n",
      "[I 2025-03-07 01:15:19,812] Trial 478 pruned. \n",
      "[I 2025-03-07 01:15:33,905] Trial 479 pruned. \n",
      "[I 2025-03-07 01:15:38,734] Trial 480 pruned. \n",
      "[I 2025-03-07 01:16:00,611] Trial 481 pruned. \n",
      "[I 2025-03-07 01:16:08,158] Trial 482 pruned. \n",
      "[I 2025-03-07 01:16:17,357] Trial 483 pruned. \n",
      "[I 2025-03-07 01:16:57,801] Trial 484 pruned. \n",
      "[I 2025-03-07 01:17:12,115] Trial 485 pruned. \n",
      "[I 2025-03-07 01:17:16,696] Trial 486 pruned. \n",
      "[I 2025-03-07 01:17:49,763] Trial 487 pruned. \n",
      "[I 2025-03-07 01:17:54,620] Trial 488 pruned. \n",
      "[I 2025-03-07 01:18:08,609] Trial 489 pruned. \n",
      "[I 2025-03-07 01:18:22,803] Trial 490 pruned. \n",
      "[I 2025-03-07 01:18:36,342] Trial 491 pruned. \n",
      "[I 2025-03-07 01:19:33,811] Trial 492 pruned. \n",
      "[I 2025-03-07 01:19:38,451] Trial 493 pruned. \n",
      "[I 2025-03-07 01:20:16,946] Trial 494 pruned. \n",
      "[I 2025-03-07 01:20:21,222] Trial 495 pruned. \n",
      "[I 2025-03-07 01:20:34,952] Trial 496 pruned. \n",
      "[I 2025-03-07 01:20:57,217] Trial 497 pruned. \n",
      "[I 2025-03-07 01:21:11,099] Trial 498 pruned. \n",
      "[I 2025-03-07 01:21:18,975] Trial 499 pruned. \n"
     ]
    }
   ],
   "source": [
    "# 1. Define an objective function to be maximized.\n",
    "def objective(trial):\n",
    "\n",
    "    n_epochs = 50\n",
    "    batch_size = 1000 # size of each batch\n",
    "    batch_start = torch.arange(0, len(train), batch_size)\n",
    "\n",
    "    loss_function = nn.BCELoss() # CrossEntropyLoss but for just one class\n",
    "\n",
    "    # Early stopping\n",
    "    early_stopping = EarlyStopping(patience=5, delta=0.01)\n",
    "\n",
    "    # 2. Suggest values of the hyperparameters using a trial object.\n",
    "    n_layers = trial.suggest_int('n_layers', 2, 4)\n",
    "    layers = []\n",
    "\n",
    "    in_features = len(train[0])\n",
    "    for i in range(n_layers):\n",
    "        out_features = trial.suggest_int(f'n_units_l{i}', 40, 100)\n",
    "        layers.append(torch.nn.Linear(in_features, out_features))\n",
    "        layers.append(nn.BatchNorm1d(out_features))\n",
    "        layers.append(torch.nn.ReLU())\n",
    "        layers.append(torch.nn.Dropout(0.25))\n",
    "        in_features = out_features\n",
    "    layers.append(torch.nn.Linear(in_features, 1))\n",
    "    layers.append(nn.Sigmoid())\n",
    "    model = torch.nn.Sequential(*layers).to(torch.device('cpu'))\n",
    "\n",
    "    # Generate the optimizers.\n",
    "    lr = trial.suggest_float(\"lr\", 1e-4, 1e-1, log=True)\n",
    "    optimizer = optim.Adam(model.parameters(), lr=lr)\n",
    "    \n",
    "    for epoch in range(n_epochs):\n",
    "        model.train()\n",
    "        with tqdm(batch_start, unit=\"batch\", mininterval=0, disable=True) as bar:\n",
    "            bar.set_description(f\"Epoch {epoch}\")\n",
    "            for start in bar:\n",
    "                # take a batch\n",
    "                train_batch = train[start:start+batch_size]\n",
    "                flags_train_batch = flags_train[start:start+batch_size]\n",
    "                # forward pass\n",
    "                outputs = model(train_batch)\n",
    "                loss = loss_function(outputs, flags_train_batch.unsqueeze(0).T)\n",
    "                # backward pass\n",
    "                optimizer.zero_grad()\n",
    "                loss.backward()\n",
    "                # update weights\n",
    "                optimizer.step()\n",
    "                # print progress\n",
    "                acc = (outputs.round() == flags_train_batch).float().mean()\n",
    "                bar.set_postfix(\n",
    "                    loss=float(loss),\n",
    "                    acc=float(acc)\n",
    "                )\n",
    "\n",
    "        model.eval()\n",
    "        with torch.no_grad():\n",
    "            val_outputs = model(val)\n",
    "            val_loss = loss_function(val_outputs, flags_val.unsqueeze(0).T)\n",
    "            accuracy = float((val_outputs.round().T == flags_val).float().mean())\n",
    "\n",
    "        trial.report(accuracy, epoch)\n",
    "\n",
    "        # Handle pruning based on the intermediate value.\n",
    "        if trial.should_prune():\n",
    "            raise optuna.exceptions.TrialPruned()\n",
    "        \n",
    "        # Early Stopping\n",
    "        if early_stopping.early_stop(val_loss):\n",
    "            print(f'Early stopped at epoch: {epoch}')\n",
    "            break\n",
    "\n",
    "    early_stopping = EarlyStopping(patience=5, delta=0.01)\n",
    "\n",
    "    return accuracy\n",
    "\n",
    "\n",
    "# 3. Create a study object and optimize the objective function.\n",
    "study = optuna.create_study(direction='maximize')\n",
    "study.optimize(objective, n_trials=500)"
   ]
  },
  {
   "cell_type": "code",
   "execution_count": 8,
   "metadata": {},
   "outputs": [
    {
     "name": "stdout",
     "output_type": "stream",
     "text": [
      "Best trial:\n",
      "  Value:  0.8724852204322815\n",
      "  Params: \n",
      "    n_layers: 2\n",
      "    n_units_l0: 98\n",
      "    n_units_l1: 84\n",
      "    lr: 0.008655714654422043\n"
     ]
    }
   ],
   "source": [
    "print(\"Best trial:\")\n",
    "b_trial = study.best_trial\n",
    "print(\"  Value: \", b_trial.value)\n",
    "\n",
    "print(\"  Params: \")\n",
    "for key, value in b_trial.params.items():\n",
    "    print(\"    {}: {}\".format(key, value))"
   ]
  },
  {
   "cell_type": "code",
   "execution_count": 10,
   "metadata": {},
   "outputs": [
    {
     "name": "stdout",
     "output_type": "stream",
     "text": [
      "    n_layers: 2\n",
      "    n_units_l0: 98\n",
      "    n_units_l1: 84\n",
      "    lr: 0.008655714654422043\n"
     ]
    }
   ],
   "source": [
    "file = open('optuna_res.txt', 'w')\n",
    "\n",
    "for key, value in b_trial.params.items():\n",
    "    print(\"    {}: {}\".format(key, value))\n",
    "    file.write(\"    {}: {}\\n\".format(key, value))\n",
    "\n",
    "file.close()"
   ]
  },
  {
   "cell_type": "code",
   "execution_count": 9,
   "metadata": {},
   "outputs": [],
   "source": [
    "#"
   ]
  }
 ],
 "metadata": {
  "kernelspec": {
   "display_name": "Python 3",
   "language": "python",
   "name": "python3"
  },
  "language_info": {
   "codemirror_mode": {
    "name": "ipython",
    "version": 3
   },
   "file_extension": ".py",
   "mimetype": "text/x-python",
   "name": "python",
   "nbconvert_exporter": "python",
   "pygments_lexer": "ipython3",
   "version": "3.11.5"
  }
 },
 "nbformat": 4,
 "nbformat_minor": 2
}
