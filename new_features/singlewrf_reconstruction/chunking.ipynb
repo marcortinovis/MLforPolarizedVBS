{
 "cells": [
  {
   "cell_type": "code",
   "execution_count": 1,
   "metadata": {},
   "outputs": [],
   "source": [
    "import numpy as np\n",
    "import pandas as pd"
   ]
  },
  {
   "cell_type": "code",
   "execution_count": 2,
   "metadata": {},
   "outputs": [],
   "source": [
    "ct1_ll = np.load('LL/costheta_1_ll.npy')\n",
    "ct2_ll = np.load('LL/costheta_2_ll.npy')"
   ]
  },
  {
   "cell_type": "code",
   "execution_count": 3,
   "metadata": {},
   "outputs": [],
   "source": [
    "np.save('costhetas_LL.npy', np.stack([ct1_ll, ct2_ll]))"
   ]
  },
  {
   "cell_type": "code",
   "execution_count": 5,
   "metadata": {},
   "outputs": [],
   "source": [
    "ct1_tl = np.load('TL/costheta_1_tl.npy')\n",
    "ct2_tl = np.load('TL/costheta_2_tl.npy')"
   ]
  },
  {
   "cell_type": "code",
   "execution_count": 6,
   "metadata": {},
   "outputs": [],
   "source": [
    "ct_dic_tl = {'ct1': ct1_tl, 'ct2': ct2_tl}\n",
    "df_ct_tl = pd.DataFrame(ct_dic_tl)"
   ]
  },
  {
   "cell_type": "code",
   "execution_count": 7,
   "metadata": {},
   "outputs": [],
   "source": [
    "ct1_tt = np.load('TT/costheta_1_tt.npy')\n",
    "ct2_tt = np.load('TT/costheta_2_tt.npy')"
   ]
  },
  {
   "cell_type": "code",
   "execution_count": 8,
   "metadata": {},
   "outputs": [],
   "source": [
    "ct_dic_tt = {'ct1': ct1_tt, 'ct2': ct2_tt}\n",
    "df_ct_tt = pd.DataFrame(ct_dic_tt)"
   ]
  },
  {
   "cell_type": "code",
   "execution_count": 9,
   "metadata": {},
   "outputs": [
    {
     "data": {
      "text/html": [
       "<div>\n",
       "<style scoped>\n",
       "    .dataframe tbody tr th:only-of-type {\n",
       "        vertical-align: middle;\n",
       "    }\n",
       "\n",
       "    .dataframe tbody tr th {\n",
       "        vertical-align: top;\n",
       "    }\n",
       "\n",
       "    .dataframe thead th {\n",
       "        text-align: right;\n",
       "    }\n",
       "</style>\n",
       "<table border=\"1\" class=\"dataframe\">\n",
       "  <thead>\n",
       "    <tr style=\"text-align: right;\">\n",
       "      <th></th>\n",
       "      <th>ct1</th>\n",
       "      <th>ct2</th>\n",
       "    </tr>\n",
       "  </thead>\n",
       "  <tbody>\n",
       "    <tr>\n",
       "      <th>0</th>\n",
       "      <td>-0.796518</td>\n",
       "      <td>-0.975872</td>\n",
       "    </tr>\n",
       "    <tr>\n",
       "      <th>1</th>\n",
       "      <td>-0.176728</td>\n",
       "      <td>-0.331518</td>\n",
       "    </tr>\n",
       "    <tr>\n",
       "      <th>2</th>\n",
       "      <td>0.362848</td>\n",
       "      <td>1.469865</td>\n",
       "    </tr>\n",
       "    <tr>\n",
       "      <th>3</th>\n",
       "      <td>-0.171232</td>\n",
       "      <td>1.644646</td>\n",
       "    </tr>\n",
       "    <tr>\n",
       "      <th>4</th>\n",
       "      <td>-2.421368</td>\n",
       "      <td>-0.956009</td>\n",
       "    </tr>\n",
       "    <tr>\n",
       "      <th>...</th>\n",
       "      <td>...</td>\n",
       "      <td>...</td>\n",
       "    </tr>\n",
       "    <tr>\n",
       "      <th>374082</th>\n",
       "      <td>-0.510163</td>\n",
       "      <td>-1.048495</td>\n",
       "    </tr>\n",
       "    <tr>\n",
       "      <th>374083</th>\n",
       "      <td>-0.130037</td>\n",
       "      <td>-1.694534</td>\n",
       "    </tr>\n",
       "    <tr>\n",
       "      <th>374084</th>\n",
       "      <td>-0.410435</td>\n",
       "      <td>0.541588</td>\n",
       "    </tr>\n",
       "    <tr>\n",
       "      <th>374085</th>\n",
       "      <td>0.005413</td>\n",
       "      <td>0.621408</td>\n",
       "    </tr>\n",
       "    <tr>\n",
       "      <th>374086</th>\n",
       "      <td>-0.057542</td>\n",
       "      <td>-0.873018</td>\n",
       "    </tr>\n",
       "  </tbody>\n",
       "</table>\n",
       "<p>374087 rows × 2 columns</p>\n",
       "</div>"
      ],
      "text/plain": [
       "             ct1       ct2\n",
       "0      -0.796518 -0.975872\n",
       "1      -0.176728 -0.331518\n",
       "2       0.362848  1.469865\n",
       "3      -0.171232  1.644646\n",
       "4      -2.421368 -0.956009\n",
       "...          ...       ...\n",
       "374082 -0.510163 -1.048495\n",
       "374083 -0.130037 -1.694534\n",
       "374084 -0.410435  0.541588\n",
       "374085  0.005413  0.621408\n",
       "374086 -0.057542 -0.873018\n",
       "\n",
       "[374087 rows x 2 columns]"
      ]
     },
     "execution_count": 9,
     "metadata": {},
     "output_type": "execute_result"
    }
   ],
   "source": [
    "df_ct_tx = pd.concat([df_ct_tl, df_ct_tt]).reset_index(drop=True)\n",
    "df_ct_tx"
   ]
  },
  {
   "cell_type": "code",
   "execution_count": 10,
   "metadata": {},
   "outputs": [],
   "source": [
    "np.save('costhetas_TX.npy', df_ct_tx.to_numpy().T)"
   ]
  },
  {
   "cell_type": "code",
   "execution_count": null,
   "metadata": {},
   "outputs": [],
   "source": [
    "#"
   ]
  }
 ],
 "metadata": {
  "kernelspec": {
   "display_name": "Python 3",
   "language": "python",
   "name": "python3"
  },
  "language_info": {
   "codemirror_mode": {
    "name": "ipython",
    "version": 3
   },
   "file_extension": ".py",
   "mimetype": "text/x-python",
   "name": "python",
   "nbconvert_exporter": "python",
   "pygments_lexer": "ipython3",
   "version": "3.11.5"
  }
 },
 "nbformat": 4,
 "nbformat_minor": 2
}
