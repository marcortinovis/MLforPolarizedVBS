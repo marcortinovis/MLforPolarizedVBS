{
 "cells": [
  {
   "cell_type": "code",
   "execution_count": 17,
   "id": "1a6f272f",
   "metadata": {},
   "outputs": [],
   "source": [
    "import numpy as np"
   ]
  },
  {
   "cell_type": "code",
   "execution_count": 18,
   "id": "758f6aff",
   "metadata": {},
   "outputs": [
    {
     "data": {
      "text/plain": [
       "(True, True)"
      ]
     },
     "execution_count": 18,
     "metadata": {},
     "output_type": "execute_result"
    }
   ],
   "source": [
    "collinssoper_LL = np.load('collinssoper/collinssoper_LL.npy')\n",
    "collinssoper_TX = np.load('collinssoper/collinssoper_TX.npy')\n",
    "\n",
    "old_collinssoper_LL = np.load('../processed_ntuples/collinssoper/collinssoper_LL.npy')\n",
    "old_collinssoper_TX = np.load('../processed_ntuples/collinssoper/collinssoper_TX.npy')\n",
    "\n",
    "np.equal(collinssoper_LL, old_collinssoper_LL).all(), np.equal(collinssoper_TX, old_collinssoper_TX).all()"
   ]
  },
  {
   "cell_type": "code",
   "execution_count": 19,
   "id": "2703345c",
   "metadata": {},
   "outputs": [
    {
     "data": {
      "text/plain": [
       "(True, True)"
      ]
     },
     "execution_count": 19,
     "metadata": {},
     "output_type": "execute_result"
    }
   ],
   "source": [
    "rpt_LL = np.load('ratio_pt/rpt_LL.npy')\n",
    "rpt_TX = np.load('ratio_pt/rpt_TX.npy')\n",
    "\n",
    "old_rpt_LL = np.load('../processed_ntuples/ratio_pt/rpt_LL.npy')\n",
    "old_rpt_TX = np.load('../processed_ntuples/ratio_pt/rpt_TX.npy')\n",
    "\n",
    "np.equal(rpt_LL, old_rpt_LL).all(), np.equal(rpt_TX, old_rpt_TX).all()"
   ]
  },
  {
   "cell_type": "code",
   "execution_count": 20,
   "id": "97e5cb4f",
   "metadata": {},
   "outputs": [
    {
     "data": {
      "text/plain": [
       "(True, True)"
      ]
     },
     "execution_count": 20,
     "metadata": {},
     "output_type": "execute_result"
    }
   ],
   "source": [
    "costhetas_LL = np.load('singlewrf_reconstruction/costhetas_LL.npy')\n",
    "costhetas_TX = np.load('singlewrf_reconstruction/costhetas_TX.npy')\n",
    "\n",
    "old_costhetas_LL = np.load('../processed_ntuples/singlewrf_reconstruction/costhetas_LL.npy')\n",
    "old_costhetas_TX = np.load('../processed_ntuples/singlewrf_reconstruction/costhetas_TX.npy')\n",
    "\n",
    "np.equal(costhetas_LL, old_costhetas_LL).all(), np.equal(costhetas_TX, old_costhetas_TX).all()"
   ]
  },
  {
   "cell_type": "code",
   "execution_count": 21,
   "id": "eb8e2edf",
   "metadata": {},
   "outputs": [
    {
     "data": {
      "text/plain": [
       "(True, True)"
      ]
     },
     "execution_count": 21,
     "metadata": {},
     "output_type": "execute_result"
    }
   ],
   "source": [
    "transvhel_LL = np.load('transverse_helicity/transverse_helicity_LL.npy')\n",
    "transvhel_TX = np.load('transverse_helicity/transverse_helicity_TX.npy')\n",
    "\n",
    "old_transvhel_LL = np.load('../processed_ntuples/transverse_helicity/transverse_helicity_LL.npy')\n",
    "old_transvhel_TX = np.load('../processed_ntuples/transverse_helicity/transverse_helicity_TX.npy')\n",
    "\n",
    "np.equal(transvhel_LL, old_transvhel_LL).all(), np.equal(transvhel_TX, old_transvhel_TX).all()"
   ]
  },
  {
   "cell_type": "code",
   "execution_count": 22,
   "id": "9e46dde3",
   "metadata": {},
   "outputs": [],
   "source": [
    "#"
   ]
  }
 ],
 "metadata": {
  "kernelspec": {
   "display_name": "Python 3",
   "language": "python",
   "name": "python3"
  },
  "language_info": {
   "codemirror_mode": {
    "name": "ipython",
    "version": 3
   },
   "file_extension": ".py",
   "mimetype": "text/x-python",
   "name": "python",
   "nbconvert_exporter": "python",
   "pygments_lexer": "ipython3",
   "version": "3.11.5"
  }
 },
 "nbformat": 4,
 "nbformat_minor": 5
}
