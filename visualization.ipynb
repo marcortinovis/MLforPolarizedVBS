{
 "cells": [
  {
   "cell_type": "code",
   "execution_count": 2,
   "metadata": {},
   "outputs": [],
   "source": [
    "import numpy as np\n",
    "from matplotlib import pyplot as plt\n",
    "import pandas as pd\n",
    "import uproot"
   ]
  },
  {
   "cell_type": "code",
   "execution_count": 3,
   "metadata": {},
   "outputs": [
    {
     "data": {
      "text/plain": [
       "{'trees;1': 'TDirectory',\n",
       " 'trees/ssww;1': 'TDirectory',\n",
       " 'trees/ssww/SSWW_WWrf_LL;1': 'TDirectory',\n",
       " 'trees/ssww/SSWW_WWrf_LL/Events;1': 'TTree',\n",
       " 'trees/ssww/SSWW_WWrf_TL;1': 'TDirectory',\n",
       " 'trees/ssww/SSWW_WWrf_TL/Events;1': 'TTree',\n",
       " 'trees/ssww/SSWW_WWrf_TT;1': 'TDirectory',\n",
       " 'trees/ssww/SSWW_WWrf_TT/Events;1': 'TTree',\n",
       " 'ssww;1': 'TDirectory'}"
      ]
     },
     "execution_count": 3,
     "metadata": {},
     "output_type": "execute_result"
    }
   ],
   "source": [
    "file = uproot.open(\"starting_ntuples/SSWW_polarized_WWrf.root\")\n",
    "file.classnames()"
   ]
  },
  {
   "cell_type": "code",
   "execution_count": 4,
   "metadata": {},
   "outputs": [
    {
     "data": {
      "text/plain": [
       "<TTree 'Events' (36 branches) at 0x01acb193c490>"
      ]
     },
     "execution_count": 4,
     "metadata": {},
     "output_type": "execute_result"
    }
   ],
   "source": [
    "events_LL = uproot.open(\"starting_ntuples/SSWW_polarized_WWrf.root:trees/ssww/SSWW_WWrf_LL/Events\")\n",
    "events_LL"
   ]
  },
  {
   "cell_type": "code",
   "execution_count": 5,
   "metadata": {},
   "outputs": [
    {
     "data": {
      "text/plain": [
       "['XSWeight',\n",
       " 'nCleanJet',\n",
       " 'CleanJet_pt',\n",
       " 'CleanJet_eta',\n",
       " 'CleanJet_phi',\n",
       " 'CleanJet_mass',\n",
       " 'ptj1',\n",
       " 'ptj2',\n",
       " 'etaj1',\n",
       " 'etaj2',\n",
       " 'phij1',\n",
       " 'phij2',\n",
       " 'mj1',\n",
       " 'mj2',\n",
       " 'mjj',\n",
       " 'detajj',\n",
       " 'ptl1',\n",
       " 'ptl2',\n",
       " 'etal1',\n",
       " 'etal2',\n",
       " 'phil1',\n",
       " 'phil2',\n",
       " 'pdgIdl1',\n",
       " 'pdgIdl2',\n",
       " 'mll',\n",
       " 'ptMET',\n",
       " 'phiMET',\n",
       " 'ptv1',\n",
       " 'ptv2',\n",
       " 'etav1',\n",
       " 'etav2',\n",
       " 'phiv1',\n",
       " 'phiv2',\n",
       " 'pdgIdv1',\n",
       " 'pdgIdv2',\n",
       " 'weight']"
      ]
     },
     "execution_count": 5,
     "metadata": {},
     "output_type": "execute_result"
    }
   ],
   "source": [
    "events_LL.keys()"
   ]
  },
  {
   "cell_type": "code",
   "execution_count": 6,
   "metadata": {},
   "outputs": [
    {
     "data": {
      "text/plain": [
       "[<TBranch 'XSWeight' at 0x01acb3260c10>,\n",
       " <TBranch 'nCleanJet' at 0x01acb2bde150>,\n",
       " <TBranch 'CleanJet_pt' at 0x01acb37fb1d0>,\n",
       " <TBranch 'CleanJet_eta' at 0x01acb37fc790>,\n",
       " <TBranch 'CleanJet_phi' at 0x01acb37fd850>,\n",
       " <TBranch 'CleanJet_mass' at 0x01acb37fe8d0>,\n",
       " <TBranch 'ptj1' at 0x01acb37fecd0>,\n",
       " <TBranch 'ptj2' at 0x01acb38081d0>,\n",
       " <TBranch 'etaj1' at 0x01acb3809a10>,\n",
       " <TBranch 'etaj2' at 0x01acb37fe4d0>,\n",
       " <TBranch 'phij1' at 0x01acb380bb10>,\n",
       " <TBranch 'phij2' at 0x01acb380cbd0>,\n",
       " <TBranch 'mj1' at 0x01acb380dd10>,\n",
       " <TBranch 'mj2' at 0x01acb380ed90>,\n",
       " <TBranch 'mjj' at 0x01acb380fe10>,\n",
       " <TBranch 'detajj' at 0x01acb381cf90>,\n",
       " <TBranch 'ptl1' at 0x01acb381e010>,\n",
       " <TBranch 'ptl2' at 0x01acb381f110>,\n",
       " <TBranch 'etal1' at 0x01acb3824190>,\n",
       " <TBranch 'etal2' at 0x01acb3825250>,\n",
       " <TBranch 'phil1' at 0x01acb38262d0>,\n",
       " <TBranch 'phil2' at 0x01acb3827310>,\n",
       " <TBranch 'pdgIdl1' at 0x01acb382c390>,\n",
       " <TBranch 'pdgIdl2' at 0x01acb382d3d0>,\n",
       " <TBranch 'mll' at 0x01acb382e490>,\n",
       " <TBranch 'ptMET' at 0x01acb382f550>,\n",
       " <TBranch 'phiMET' at 0x01acb383c650>,\n",
       " <TBranch 'ptv1' at 0x01acb383d110>,\n",
       " <TBranch 'ptv2' at 0x01acb383e710>,\n",
       " <TBranch 'etav1' at 0x01acb383f7d0>,\n",
       " <TBranch 'etav2' at 0x01acb3844810>,\n",
       " <TBranch 'phiv1' at 0x01acb3845810>,\n",
       " <TBranch 'phiv2' at 0x01acb38464d0>,\n",
       " <TBranch 'pdgIdv1' at 0x01acb3847890>,\n",
       " <TBranch 'pdgIdv2' at 0x01acb384c910>,\n",
       " <TBranch 'weight' at 0x01acb384d950>]"
      ]
     },
     "execution_count": 6,
     "metadata": {},
     "output_type": "execute_result"
    }
   ],
   "source": [
    "events_LL.values()"
   ]
  },
  {
   "cell_type": "code",
   "execution_count": 7,
   "metadata": {},
   "outputs": [
    {
     "name": "stdout",
     "output_type": "stream",
     "text": [
      "name                 | typename                 | interpretation                \n",
      "---------------------+--------------------------+-------------------------------\n",
      "XSWeight             | float                    | AsDtype('>f4')\n",
      "nCleanJet            | uint32_t                 | AsDtype('>u4')\n",
      "CleanJet_pt          | float[]                  | AsJagged(AsDtype('>f4'))\n",
      "CleanJet_eta         | float[]                  | AsJagged(AsDtype('>f4'))\n",
      "CleanJet_phi         | float[]                  | AsJagged(AsDtype('>f4'))\n",
      "CleanJet_mass        | float[]                  | AsJagged(AsDtype('>f4'))\n",
      "ptj1                 | float                    | AsDtype('>f4')\n",
      "ptj2                 | float                    | AsDtype('>f4')\n",
      "etaj1                | float                    | AsDtype('>f4')\n",
      "etaj2                | float                    | AsDtype('>f4')\n",
      "phij1                | float                    | AsDtype('>f4')\n",
      "phij2                | float                    | AsDtype('>f4')\n",
      "mj1                  | float                    | AsDtype('>f4')\n",
      "mj2                  | float                    | AsDtype('>f4')\n",
      "mjj                  | float                    | AsDtype('>f4')\n",
      "detajj               | float                    | AsDtype('>f4')\n",
      "ptl1                 | float                    | AsDtype('>f4')\n",
      "ptl2                 | float                    | AsDtype('>f4')\n",
      "etal1                | float                    | AsDtype('>f4')\n",
      "etal2                | float                    | AsDtype('>f4')\n",
      "phil1                | float                    | AsDtype('>f4')\n",
      "phil2                | float                    | AsDtype('>f4')\n",
      "pdgIdl1              | float                    | AsDtype('>f4')\n",
      "pdgIdl2              | float                    | AsDtype('>f4')\n",
      "mll                  | float                    | AsDtype('>f4')\n",
      "ptMET                | float                    | AsDtype('>f4')\n",
      "phiMET               | float                    | AsDtype('>f4')\n",
      "ptv1                 | float                    | AsDtype('>f4')\n",
      "ptv2                 | float                    | AsDtype('>f4')\n",
      "etav1                | float                    | AsDtype('>f4')\n",
      "etav2                | float                    | AsDtype('>f4')\n",
      "phiv1                | float                    | AsDtype('>f4')\n",
      "phiv2                | float                    | AsDtype('>f4')\n",
      "pdgIdv1              | float                    | AsDtype('>f4')\n",
      "pdgIdv2              | float                    | AsDtype('>f4')\n",
      "weight               | double                   | AsDtype('>f8')\n"
     ]
    }
   ],
   "source": [
    "events_LL.show()"
   ]
  },
  {
   "cell_type": "code",
   "execution_count": 8,
   "metadata": {},
   "outputs": [
    {
     "data": {
      "text/plain": [
       "['XSWeight',\n",
       " 'ptj1',\n",
       " 'ptj2',\n",
       " 'etaj1',\n",
       " 'etaj2',\n",
       " 'phij1',\n",
       " 'phij2',\n",
       " 'mj1',\n",
       " 'mj2',\n",
       " 'mjj',\n",
       " 'detajj',\n",
       " 'ptl1',\n",
       " 'ptl2',\n",
       " 'etal1',\n",
       " 'etal2',\n",
       " 'phil1',\n",
       " 'phil2',\n",
       " 'pdgIdl1',\n",
       " 'pdgIdl2',\n",
       " 'mll',\n",
       " 'ptMET',\n",
       " 'phiMET',\n",
       " 'ptv1',\n",
       " 'ptv2',\n",
       " 'etav1',\n",
       " 'etav2',\n",
       " 'phiv1',\n",
       " 'phiv2',\n",
       " 'pdgIdv1',\n",
       " 'pdgIdv2']"
      ]
     },
     "execution_count": 8,
     "metadata": {},
     "output_type": "execute_result"
    }
   ],
   "source": [
    "events_LL.keys(filter_typename='float'or'uint32_t'or'double')"
   ]
  },
  {
   "cell_type": "code",
   "execution_count": 9,
   "metadata": {},
   "outputs": [
    {
     "data": {
      "text/plain": [
       "array([ 717.575  , 1749.2535 , 2111.3267 , ...,  825.49927, 2489.5225 ,\n",
       "       2268.8162 ], dtype=float32)"
      ]
     },
     "execution_count": 9,
     "metadata": {},
     "output_type": "execute_result"
    }
   ],
   "source": [
    "mjj = events_LL['mjj'].array(library='np')\n",
    "mjj"
   ]
  },
  {
   "cell_type": "code",
   "execution_count": 10,
   "metadata": {},
   "outputs": [],
   "source": [
    "data = events_LL.arrays(library='pd')\n",
    "for x  in data['ptl1']:\n",
    "    #print(x)\n",
    "    if x < 25: print('help')"
   ]
  },
  {
   "cell_type": "code",
   "execution_count": 11,
   "metadata": {},
   "outputs": [],
   "source": [
    "#"
   ]
  },
  {
   "cell_type": "code",
   "execution_count": 12,
   "metadata": {},
   "outputs": [
    {
     "name": "stdout",
     "output_type": "stream",
     "text": [
      "[-10   1   2]\n",
      "[ 1 -2  3]\n",
      "[-10   1   2]\n"
     ]
    }
   ],
   "source": [
    "a = [-10, 1, 2]\n",
    "b = [1, -2, 3]\n",
    "c = [True, False, True]\n",
    "for i in range(3):\n",
    "    print(np.where(c[i], a, b))"
   ]
  },
  {
   "cell_type": "code",
   "execution_count": 13,
   "metadata": {},
   "outputs": [],
   "source": [
    "#"
   ]
  },
  {
   "cell_type": "code",
   "execution_count": 14,
   "metadata": {},
   "outputs": [],
   "source": [
    "file.close()"
   ]
  },
  {
   "cell_type": "code",
   "execution_count": 15,
   "metadata": {},
   "outputs": [
    {
     "name": "stdout",
     "output_type": "stream",
     "text": [
      "2 3\n",
      "[0. 0. 1. 1. 0.]\n"
     ]
    }
   ],
   "source": [
    "file = open('test.txt', 'r')\n",
    "\n",
    "file.readline()\n",
    "\n",
    "id1, id2 = file.readline().split()\n",
    "id1 = int(id1)\n",
    "id2 = int(id2)\n",
    "print(id1, id2)\n",
    "\n",
    "mask = np.zeros(5)\n",
    "mask[id1] = 1\n",
    "mask[id2] = 1\n",
    "print(mask)\n",
    "file.close()"
   ]
  },
  {
   "cell_type": "code",
   "execution_count": 16,
   "metadata": {},
   "outputs": [
    {
     "data": {
      "text/plain": [
       "array([0., 0., 2., 3., 0.])"
      ]
     },
     "execution_count": 16,
     "metadata": {},
     "output_type": "execute_result"
    }
   ],
   "source": [
    "arr = list(range(5))\n",
    "np.where(mask, arr, np.zeros(5))"
   ]
  },
  {
   "cell_type": "code",
   "execution_count": 17,
   "metadata": {},
   "outputs": [],
   "source": [
    "#"
   ]
  },
  {
   "cell_type": "code",
   "execution_count": 19,
   "metadata": {},
   "outputs": [
    {
     "data": {
      "text/plain": [
       "array([1, 1, 1])"
      ]
     },
     "execution_count": 19,
     "metadata": {},
     "output_type": "execute_result"
    }
   ],
   "source": [
    "jetPt_nvbs = np.stack([[1, 0, 0],[1, 1, 0]], axis=1)\n",
    "mask_pad = jetPt_nvbs > 0.\n",
    "jetPt_nvbs[mask_pad]"
   ]
  },
  {
   "cell_type": "code",
   "execution_count": null,
   "metadata": {},
   "outputs": [],
   "source": []
  }
 ],
 "metadata": {
  "kernelspec": {
   "display_name": "Python 3",
   "language": "python",
   "name": "python3"
  },
  "language_info": {
   "codemirror_mode": {
    "name": "ipython",
    "version": 3
   },
   "file_extension": ".py",
   "mimetype": "text/x-python",
   "name": "python",
   "nbconvert_exporter": "python",
   "pygments_lexer": "ipython3",
   "version": "3.11.5"
  }
 },
 "nbformat": 4,
 "nbformat_minor": 2
}
